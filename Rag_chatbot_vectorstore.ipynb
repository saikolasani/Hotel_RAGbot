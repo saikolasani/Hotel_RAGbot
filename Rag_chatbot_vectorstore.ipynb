{
 "cells": [
  {
   "cell_type": "code",
   "execution_count": 1,
   "id": "4b2f1c0b-e6d2-4b7f-a5ce-a349b4979030",
   "metadata": {},
   "outputs": [
    {
     "name": "stdout",
     "output_type": "stream",
     "text": [
      "Requirement already satisfied: langchain_astradb in /opt/conda/lib/python3.10/site-packages (0.1.0)\n",
      "Requirement already satisfied: astrapy<0.8.0,>=0.7.7 in /opt/conda/lib/python3.10/site-packages (from langchain_astradb) (0.7.7)\n",
      "Requirement already satisfied: langchain-core<0.2.0,>=0.1.31 in /opt/conda/lib/python3.10/site-packages (from langchain_astradb) (0.1.31)\n",
      "Requirement already satisfied: numpy<2,>=1 in /opt/conda/lib/python3.10/site-packages (from langchain_astradb) (1.22.4)\n",
      "Requirement already satisfied: cassio<0.2.0,>=0.1.4 in /opt/conda/lib/python3.10/site-packages (from astrapy<0.8.0,>=0.7.7->langchain_astradb) (0.1.5)\n",
      "Requirement already satisfied: deprecation<2.2.0,>=2.1.0 in /opt/conda/lib/python3.10/site-packages (from astrapy<0.8.0,>=0.7.7->langchain_astradb) (2.1.0)\n",
      "Requirement already satisfied: httpx<1,>=0.25.2 in /opt/conda/lib/python3.10/site-packages (from httpx[http2]<1,>=0.25.2->astrapy<0.8.0,>=0.7.7->langchain_astradb) (0.27.0)\n",
      "Requirement already satisfied: toml<0.11.0,>=0.10.2 in /opt/conda/lib/python3.10/site-packages (from astrapy<0.8.0,>=0.7.7->langchain_astradb) (0.10.2)\n",
      "Requirement already satisfied: PyYAML>=5.3 in /opt/conda/lib/python3.10/site-packages (from langchain-core<0.2.0,>=0.1.31->langchain_astradb) (6.0.1)\n",
      "Requirement already satisfied: anyio<5,>=3 in /opt/conda/lib/python3.10/site-packages (from langchain-core<0.2.0,>=0.1.31->langchain_astradb) (3.7.1)\n",
      "Requirement already satisfied: jsonpatch<2.0,>=1.33 in /opt/conda/lib/python3.10/site-packages (from langchain-core<0.2.0,>=0.1.31->langchain_astradb) (1.33)\n",
      "Requirement already satisfied: langsmith<0.2.0,>=0.1.0 in /opt/conda/lib/python3.10/site-packages (from langchain-core<0.2.0,>=0.1.31->langchain_astradb) (0.1.47)\n",
      "Requirement already satisfied: packaging<24.0,>=23.2 in /opt/conda/lib/python3.10/site-packages (from langchain-core<0.2.0,>=0.1.31->langchain_astradb) (23.2)\n",
      "Requirement already satisfied: pydantic<3,>=1 in /opt/conda/lib/python3.10/site-packages (from langchain-core<0.2.0,>=0.1.31->langchain_astradb) (1.10.15)\n",
      "Requirement already satisfied: requests<3,>=2 in /opt/conda/lib/python3.10/site-packages (from langchain-core<0.2.0,>=0.1.31->langchain_astradb) (2.31.0)\n",
      "Requirement already satisfied: tenacity<9.0.0,>=8.1.0 in /opt/conda/lib/python3.10/site-packages (from langchain-core<0.2.0,>=0.1.31->langchain_astradb) (8.2.3)\n",
      "Requirement already satisfied: idna>=2.8 in /opt/conda/lib/python3.10/site-packages (from anyio<5,>=3->langchain-core<0.2.0,>=0.1.31->langchain_astradb) (3.6)\n",
      "Requirement already satisfied: sniffio>=1.1 in /opt/conda/lib/python3.10/site-packages (from anyio<5,>=3->langchain-core<0.2.0,>=0.1.31->langchain_astradb) (1.3.1)\n",
      "Requirement already satisfied: exceptiongroup in /opt/conda/lib/python3.10/site-packages (from anyio<5,>=3->langchain-core<0.2.0,>=0.1.31->langchain_astradb) (1.2.0)\n",
      "Requirement already satisfied: cassandra-driver>=3.28.0 in /opt/conda/lib/python3.10/site-packages (from cassio<0.2.0,>=0.1.4->astrapy<0.8.0,>=0.7.7->langchain_astradb) (3.29.1)\n",
      "Requirement already satisfied: certifi in /opt/conda/lib/python3.10/site-packages (from httpx<1,>=0.25.2->httpx[http2]<1,>=0.25.2->astrapy<0.8.0,>=0.7.7->langchain_astradb) (2024.2.2)\n",
      "Requirement already satisfied: httpcore==1.* in /opt/conda/lib/python3.10/site-packages (from httpx<1,>=0.25.2->httpx[http2]<1,>=0.25.2->astrapy<0.8.0,>=0.7.7->langchain_astradb) (1.0.5)\n",
      "Requirement already satisfied: h11<0.15,>=0.13 in /opt/conda/lib/python3.10/site-packages (from httpcore==1.*->httpx<1,>=0.25.2->httpx[http2]<1,>=0.25.2->astrapy<0.8.0,>=0.7.7->langchain_astradb) (0.14.0)\n",
      "Requirement already satisfied: h2<5,>=3 in /opt/conda/lib/python3.10/site-packages (from httpx[http2]<1,>=0.25.2->astrapy<0.8.0,>=0.7.7->langchain_astradb) (4.1.0)\n",
      "Requirement already satisfied: jsonpointer>=1.9 in /opt/conda/lib/python3.10/site-packages (from jsonpatch<2.0,>=1.33->langchain-core<0.2.0,>=0.1.31->langchain_astradb) (2.4)\n",
      "Requirement already satisfied: orjson<4.0.0,>=3.9.14 in /opt/conda/lib/python3.10/site-packages (from langsmith<0.2.0,>=0.1.0->langchain-core<0.2.0,>=0.1.31->langchain_astradb) (3.10.0)\n",
      "Requirement already satisfied: typing-extensions>=4.2.0 in /opt/conda/lib/python3.10/site-packages (from pydantic<3,>=1->langchain-core<0.2.0,>=0.1.31->langchain_astradb) (4.10.0)\n",
      "Requirement already satisfied: charset-normalizer<4,>=2 in /opt/conda/lib/python3.10/site-packages (from requests<3,>=2->langchain-core<0.2.0,>=0.1.31->langchain_astradb) (3.3.2)\n",
      "Requirement already satisfied: urllib3<3,>=1.21.1 in /opt/conda/lib/python3.10/site-packages (from requests<3,>=2->langchain-core<0.2.0,>=0.1.31->langchain_astradb) (2.2.1)\n",
      "Requirement already satisfied: geomet<0.3,>=0.1 in /opt/conda/lib/python3.10/site-packages (from cassandra-driver>=3.28.0->cassio<0.2.0,>=0.1.4->astrapy<0.8.0,>=0.7.7->langchain_astradb) (0.2.1.post1)\n",
      "Requirement already satisfied: hyperframe<7,>=6.0 in /opt/conda/lib/python3.10/site-packages (from h2<5,>=3->httpx[http2]<1,>=0.25.2->astrapy<0.8.0,>=0.7.7->langchain_astradb) (6.0.1)\n",
      "Requirement already satisfied: hpack<5,>=4.0 in /opt/conda/lib/python3.10/site-packages (from h2<5,>=3->httpx[http2]<1,>=0.25.2->astrapy<0.8.0,>=0.7.7->langchain_astradb) (4.0.0)\n",
      "Requirement already satisfied: click in /opt/conda/lib/python3.10/site-packages (from geomet<0.3,>=0.1->cassandra-driver>=3.28.0->cassio<0.2.0,>=0.1.4->astrapy<0.8.0,>=0.7.7->langchain_astradb) (8.1.7)\n",
      "Requirement already satisfied: six in /opt/conda/lib/python3.10/site-packages (from geomet<0.3,>=0.1->cassandra-driver>=3.28.0->cassio<0.2.0,>=0.1.4->astrapy<0.8.0,>=0.7.7->langchain_astradb) (1.16.0)\n"
     ]
    }
   ],
   "source": [
    "# # Install dependencies.\n",
    "# !pip install asyncio==3.4.3 asyncpg==0.27.0 cloud-sql-python-connector[\"asyncpg\"]==1.2.3\n",
    "# !pip install numpy==1.22.4 pandas==1.5.3\n",
    "# !pip install pgvector==0.1.8\n",
    "# !pip install langchain==0.0.196 transformers==4.30.1\n",
    "# !pip install google-cloud-aiplatform==1.26.0\n",
    "# !pip install faker\n",
    "# !pip install --user  psycopg2-binary\n",
    "#!pip install langchain_community\n",
    "#!pip install langchain_google_vertexai\n",
    "#!pip install langchain_astradb "
   ]
  },
  {
   "cell_type": "code",
   "execution_count": null,
   "id": "50b68227-87d2-4070-a15b-0f7fa958416a",
   "metadata": {
    "tags": []
   },
   "outputs": [],
   "source": [
    "from langchain.chains.combine_documents.stuff import StuffDocumentsChain\n",
    "from langchain.chains.llm import LLMChain\n",
    "from langchain.vectorstores.pgvector import PGVector\n",
    "#from langchain.embeddings import VertexAIEmbeddings\n",
    "from langchain.document_loaders import TextLoader\n",
    "from langchain.chains.conversational_retrieval.base import ConversationalRetrievalChain\n",
    "from langchain_core.prompts import ChatPromptTemplate, PromptTemplate\n",
    "from langchain.memory import ConversationBufferMemory\n",
    "from langchain_core.messages import HumanMessage, SystemMessage\n",
    "from langchain_google_vertexai import ChatVertexAI\n",
    "from langchain_google_vertexai import VertexAIEmbeddings\n",
    "import psycopg2\n",
    "from google.cloud import aiplatform\n",
    "from langchain_astradb import AstraDBVectorStore\n",
    "from langchain_core.documents import Document"
   ]
  },
  {
   "cell_type": "code",
   "execution_count": null,
   "id": "ca4045c1-d5d1-4b02-9310-dbb9433847a6",
   "metadata": {
    "tags": []
   },
   "outputs": [],
   "source": [
    "embedding = VertexAIEmbeddings()\n",
    "vstore = AstraDBVectorStore(\n",
    "    embedding=embedding,\n",
    "    collection_name=\"hotel_embeddings\",\n",
    "    token=\"AstraCS:uyGjAfTBKJGEkzDRcnQAuved:8f96e3aaa89b517c44931fb815cc8a6a9606ac3a86a10eadf13b223d2f192216\",\n",
    "    api_endpoint=\"https://d76dcb8a-2c6c-41ad-8000-0849aed20095-us-east1.apps.astra.datastax.com\",\n",
    ")"
   ]
  },
  {
   "cell_type": "code",
   "execution_count": null,
   "id": "653e20ae-bfcc-4fb1-a1ce-dddfb3ff9353",
   "metadata": {
    "tags": []
   },
   "outputs": [],
   "source": [
    "from faker import Faker\n",
    "import random\n",
    "import pandas as pd\n",
    "\n",
    "# Initialize Faker to generate fake data\n",
    "faker = Faker()\n",
    "\n",
    "# Define cities\n",
    "cities = [\"Miami\", \"Seattle\", \"Chicago\", \"Edison\", \"Portland\", \"Houston\", \"Phoenix\", \"Dallas\", \"Austin\", \"Atlanta\"]\n",
    "\n",
    "# Number of rows in the dataset\n",
    "num_rows = 1000\n",
    "\n",
    "# Generate synthetic data for each field\n",
    "hotel_id = [i + 1 for i in range(num_rows)]\n",
    "hotel_name = [faker.company() for _ in range(num_rows)]\n",
    "brand = [faker.company_suffix() for _ in range(num_rows)]\n",
    "hotel_address = [faker.street_address() for _ in range(num_rows)]\n",
    "hotel_area_name = [faker.city_suffix() for _ in range(num_rows)]\n",
    "city = random.choices(cities, k=num_rows)  # Randomly select cities from the list\n",
    "country = [\"United States\" for _ in range(num_rows)]  # All hotels are in the United States\n",
    "amenities = [random.sample(['WiFi', 'Restaurant', 'Pool', 'Gym', 'Spa', 'Parking'], random.randint(1, 3)) for _ in range(num_rows)]\n",
    "\n",
    "# Generate hotel descriptions\n",
    "hotel_descriptions = []\n",
    "for i in range(num_rows):\n",
    "    location_type = random.choice(['urban', 'suburban', 'rural'])\n",
    "    room_types = random.sample(['single', 'double', 'suite'], random.randint(1, 3))\n",
    "    facilities = random.sample(['gym', 'spa', 'pool', 'restaurant', 'bar', 'conference room'], random.randint(1, 4))\n",
    "    description = f\"{hotel_name[i]} offers a {location_type} retreat with cozy accommodations. \"\n",
    "    description += f\"Located in {city[i]}, {country[i]}, our hotel provides easy access to local attractions. \"\n",
    "    description += f\"Whether you're traveling for business or leisure, {hotel_name[i]} is the perfect choice. \"\n",
    "    description += f\"Indulge in our {', '.join(amenities[i])} and experience unmatched hospitality. \"\n",
    "    description += f\"Book your stay today and discover the ultimate comfort and convenience.\"\n",
    "\n",
    "    hotel_descriptions.append(description)\n",
    "\n",
    "# Create DataFrame from the generated data\n",
    "data = {\n",
    "    'hotel_id': hotel_id,\n",
    "    'hotel_name': hotel_name,\n",
    "    'brand': brand,\n",
    "    'hotel_address': hotel_address,\n",
    "    'hotel_area_name': hotel_area_name,\n",
    "    'city': city,\n",
    "    'country': country,\n",
    "    'amenities': amenities,\n",
    "    'description': hotel_descriptions\n",
    "}\n",
    "\n",
    "df_hotels = pd.DataFrame(data)\n",
    "\n",
    "# Print the first few rows of the DataFrame\n",
    "print(df_hotels.head())\n"
   ]
  },
  {
   "cell_type": "code",
   "execution_count": 4,
   "id": "b98f7544-a434-48e4-be9a-b887027ebc8b",
   "metadata": {
    "tags": []
   },
   "outputs": [
    {
     "name": "stdout",
     "output_type": "stream",
     "text": [
      "Index(['hotel_id', 'hotel_name', 'brand', 'hotel_address', 'hotel_area_name',\n",
      "       'city', 'country', 'amenities', 'description'],\n",
      "      dtype='object')\n"
     ]
    }
   ],
   "source": [
    "print(df_hotels.columns)"
   ]
  },
  {
   "cell_type": "code",
   "execution_count": 5,
   "id": "fdaff2e7-b93b-4e08-8f72-5ca0dca4ada6",
   "metadata": {
    "tags": []
   },
   "outputs": [
    {
     "name": "stdout",
     "output_type": "stream",
     "text": [
      "Index(['hotel_id', 'hotel_name', 'brand', 'hotel_address', 'hotel_area_name',\n",
      "       'city', 'country', 'amenities', 'description'],\n",
      "      dtype='object')\n"
     ]
    }
   ],
   "source": [
    "#Replace column names that contain a dot with an underscore as the metadata key value pairs do not support periods.\n",
    "df_hotels.rename(columns={col: col.replace('.', '_') for col in df_hotels.columns}, inplace=True)\n",
    "print(df_hotels.columns)\n"
   ]
  },
  {
   "cell_type": "code",
   "execution_count": 6,
   "id": "8deea5c1-4b07-4ad9-b37b-e4aab8b67650",
   "metadata": {
    "tags": []
   },
   "outputs": [],
   "source": [
    "#Create a function to make human readable text from column names\n",
    "import re\n",
    "\n",
    "def convert_to_readable_string(input_string):\n",
    "    # Split the string to words and handle camel case words\n",
    "    segments = re.split('[._ ]', input_string)\n",
    "    words = []\n",
    "    #print(segments)\n",
    "    for segment in segments:\n",
    "        segment_words = re.findall('[A-Za-z][^A-Z]*', segment)\n",
    "        # Capitalize each word and add to the list\n",
    "        words.extend(segment_words)\n",
    "        #print(words)\n",
    "    # Capitalize each word and join with a space\n",
    "    readable_string = ' '.join([word.capitalize() for word in words])\n",
    "    return readable_string\n",
    "\n",
    "# # Example usage\n",
    "# input_string = \"hotelFeatures.highlightedAmenities phone_number\"\n",
    "# output_string = convert_to_readable_string(input_string)\n",
    "# print(output_string)  # Output: Hotel Features Hotel Amenities"
   ]
  },
  {
   "cell_type": "code",
   "execution_count": 7,
   "id": "5b41bc73-729e-4b9e-ac29-c55276cbb07b",
   "metadata": {
    "tags": []
   },
   "outputs": [],
   "source": [
    "\n",
    "#created Hotel template for the structure of the documents.\n",
    "import numpy as np\n",
    "\n",
    "# Creating the template for hotels based on column names and values\n",
    "for index, row in df_hotels.iterrows():\n",
    "    content = f\"<h1>Hotel name: {row['hotel_name']}</h1><ul>\"\n",
    "    for column, value in row.items():\n",
    "        # Skip content, just in case we re-run this cell\n",
    "        # Skip internal ID\n",
    "        if column == \"content\" or column == \"rid\":\n",
    "            continue\n",
    "        # Skip empty string\n",
    "        if isinstance(value, str) and not value:\n",
    "            continue\n",
    "        # Skip empty numbers\n",
    "        if isinstance(value, (int, float)) and np.isnan(value):\n",
    "            continue\n",
    "        content += f\"<li>{convert_to_readable_string(column)}: {value}\"\n",
    "        # content += f\"<li>{column}: {value}\"\n",
    "    content += \"</ul>\"\n",
    "    df_hotels.loc[index, 'type'] = \"hotel\"\n",
    "    df_hotels.loc[index, 'content'] = content\n"
   ]
  },
  {
   "cell_type": "code",
   "execution_count": 8,
   "id": "22d4eead-ade6-499f-a732-43e4a8f94cfb",
   "metadata": {
    "tags": []
   },
   "outputs": [
    {
     "name": "stdout",
     "output_type": "stream",
     "text": [
      "<h1>Hotel name: Villa, Roman and Klein</h1><ul><li>Hotel Id: 1<li>Hotel Name: Villa, Roman and Klein<li>Brand: LLC<li>Hotel Address: 4649 Joe Villages Suite 746<li>Hotel Area Name: ville<li>City: Austin<li>Country: United States<li>Amenities: ['Restaurant', 'WiFi']<li>Description: Villa, Roman and Klein offers a urban retreat with cozy accommodations. Located in Austin, United States, our hotel provides easy access to local attractions. Whether you're traveling for business or leisure, Villa, Roman and Klein is the perfect choice. Indulge in our Restaurant, WiFi and experience unmatched hospitality. Book your stay today and discover the ultimate comfort and convenience.</ul>\n"
     ]
    }
   ],
   "source": [
    "# Print the template for each hotel\n",
    "#for index, row in df_hotels.iterrows():\n",
    "    #print(row['content'])\n",
    "print(df_hotels.iloc[0]['content'])\n",
    "\n"
   ]
  },
  {
   "cell_type": "code",
   "execution_count": 10,
   "id": "e2968eef-e4c8-4b9a-8a5a-60f2b8c67cd4",
   "metadata": {
    "tags": []
   },
   "outputs": [
    {
     "name": "stdout",
     "output_type": "stream",
     "text": [
      "{'hotel_id': 91, 'content': \"91-Warren, James and Cox-Inc-9016 Holmes Square Apt. 314-ton-Austin-United States-{Pool}-Warren, James and Cox offers a urban retreat with cozy accommodations. Located in Austin, United States, our hotel provides easy access to local attractions. Whether you're traveling for business or leisure, Warren, James and Cox is the perfect choice. Indulge in our Pool and experience unmatched hospitality. Book your stay today and discover the ultimate comfort and convenience.\"}\n"
     ]
    }
   ],
   "source": [
    "import pandas as pd\n",
    "\n",
    "# Assuming that 'df' is your DataFrame and it has a column named 'amenities'\n",
    "\n",
    "# Define a mapping of amenities abbreviations to their full names\n",
    "amenities_mapping = {\n",
    "    \"G\": \"Gym\",\n",
    "    \"S\": \"Spa\",\n",
    "    \"P\": \"Pool\",\n",
    "    \"R\": \"Restaurant\",\n",
    "    \"B\": \"Bar\",\n",
    "    \"C\": \"Conference Room\",\n",
    "}\n",
    "\n",
    "TEMPLATE = \"{hotel_id}-{hotel_name}-{brand}-{hotel_address}-{hotel_area_name}-{city}-{country}-{amenities}-{description}\"\n",
    "\n",
    "chunked = []\n",
    "for index, row in df_hotels.iterrows():\n",
    "    # Use the amenities list directly\n",
    "    amenities_list = row['amenities']\n",
    "\n",
    "    # Map the amenities abbreviations to their full names\n",
    "    amenities_mapped = [amenities_mapping.get(amenity, amenity) for amenity in amenities_list]\n",
    "\n",
    "    # Remove duplicates and join the amenities with commas\n",
    "    amenities_formatted = ', '.join(list(set(amenities_mapped)))\n",
    "    amenities = f\"{{{amenities_formatted}}}\"\n",
    "\n",
    "    r = {\n",
    "        \"hotel_id\": int(row['hotel_id']),\n",
    "        \"content\": TEMPLATE.format(\n",
    "            hotel_id=row['hotel_id'],\n",
    "            hotel_name=row['hotel_name'],\n",
    "            brand=row['brand'],\n",
    "            hotel_address=row['hotel_address'],\n",
    "            hotel_area_name=row['hotel_area_name'],\n",
    "            city=row['city'],\n",
    "            country=row['country'],\n",
    "            amenities=amenities,\n",
    "            description=row['description']\n",
    "        )\n",
    "    }\n",
    "    chunked.append(r)\n",
    "\n",
    "print(chunked[90])\n"
   ]
  },
  {
   "cell_type": "code",
   "execution_count": 11,
   "id": "b37dc0c7-4938-4776-b587-7ebac486cc96",
   "metadata": {
    "tags": []
   },
   "outputs": [
    {
     "data": {
      "text/plain": [
       "Document(page_content=\"<h1>Hotel name: Barr and Sons</h1><ul><li>Hotel Id: 2<li>Hotel Name: Barr and Sons<li>Brand: and Sons<li>Hotel Address: 50719 Anthony Field<li>Hotel Area Name: burgh<li>City: Chicago<li>Country: United States<li>Amenities: ['Spa']<li>Description: Barr and Sons offers a rural retreat with cozy accommodations. Located in Chicago, United States, our hotel provides easy access to local attractions. Whether you're traveling for business or leisure, Barr and Sons is the perfect choice. Indulge in our Spa and experience unmatched hospitality. Book your stay today and discover the ultimate comfort and convenience.</ul>\", metadata={'hotel_id': 2, 'hotel_name': 'Barr and Sons', 'brand': 'and Sons', 'hotel_address': '50719 Anthony Field', 'hotel_area_name': 'burgh', 'city': 'Chicago', 'country': 'United States', 'amenities': ['Spa'], 'description': \"Barr and Sons offers a rural retreat with cozy accommodations. Located in Chicago, United States, our hotel provides easy access to local attractions. Whether you're traveling for business or leisure, Barr and Sons is the perfect choice. Indulge in our Spa and experience unmatched hospitality. Book your stay today and discover the ultimate comfort and convenience.\", 'type': 'hotel'})"
      ]
     },
     "execution_count": 11,
     "metadata": {},
     "output_type": "execute_result"
    }
   ],
   "source": [
    "#created document types instead of structured row with content and metadata.\n",
    "#Adv: this allows us to do filtering on metadata and similarity search and ability to add different document types like for flights/restaurants and avoid the table column sparsing\n",
    "from langchain_community.document_loaders.dataframe import DataFrameLoader\n",
    "loader = DataFrameLoader(df_hotels, page_content_column=\"content\")\n",
    "docs = loader.load()\n",
    "docs[1]"
   ]
  },
  {
   "cell_type": "code",
   "execution_count": 12,
   "id": "1770ad59-9b4a-432d-bf92-69126baebcc0",
   "metadata": {
    "tags": []
   },
   "outputs": [],
   "source": [
    "# Clear and re-create and populate the vector store, skip this cell if you are simply connecting to the vector DB\n",
    "import os\n",
    "from google.cloud import aiplatform\n",
    "from langchain_astradb import AstraDBVectorStore\n",
    "from langchain_google_vertexai import VertexAIEmbeddings\n",
    "\n",
    "embeddings_service = VertexAIEmbeddings(model_name=\"textembedding-gecko\")\n",
    "# #create connection with name vector_store\n",
    "vector_store = AstraDBVectorStore(token=\"AstraCS:uyGjAfTBKJGEkzDRcnQAuved:8f96e3aaa89b517c44931fb815cc8a6a9606ac3a86a10eadf13b223d2f192216\", api_endpoint=\"https://d76dcb8a-2c6c-41ad-8000-0849aed20095-us-east1.apps.astra.datastax.com\", collection_name=\"hotel_embeddings\", embedding=embeddings_service)\n",
    "\n",
    "vector_store.clear()\n",
    "# #Create embedddings in docs and insert to astra vector_setote which is hotels table\n",
    "\n",
    "for i in range(0, len(docs), 20):\n",
    "    vector_store.add_documents(docs[i:i + 20])"
   ]
  },
  {
   "cell_type": "code",
   "execution_count": 13,
   "id": "75c87ffc-9452-4ca7-937a-811d13b2dd54",
   "metadata": {
    "tags": []
   },
   "outputs": [
    {
     "name": "stderr",
     "output_type": "stream",
     "text": [
      "/opt/conda/lib/python3.10/site-packages/langchain_core/_api/deprecation.py:117: LangChainDeprecationWarning: The class `langchain_community.embeddings.vertexai.VertexAIEmbeddings` was deprecated in langchain-community 0.0.12 and will be removed in 0.2.0. An updated version of the class exists in the langchain-google-vertexai package and should be used instead. To use it run `pip install -U langchain-google-vertexai` and import as `from langchain_google_vertexai import VertexAIEmbeddings`.\n",
      "  warn_deprecated(\n"
     ]
    },
    {
     "data": {
      "text/html": [
       "<div>\n",
       "<style scoped>\n",
       "    .dataframe tbody tr th:only-of-type {\n",
       "        vertical-align: middle;\n",
       "    }\n",
       "\n",
       "    .dataframe tbody tr th {\n",
       "        vertical-align: top;\n",
       "    }\n",
       "\n",
       "    .dataframe thead th {\n",
       "        text-align: right;\n",
       "    }\n",
       "</style>\n",
       "<table border=\"1\" class=\"dataframe\">\n",
       "  <thead>\n",
       "    <tr style=\"text-align: right;\">\n",
       "      <th></th>\n",
       "      <th>hotel_id</th>\n",
       "      <th>content</th>\n",
       "      <th>embedding</th>\n",
       "    </tr>\n",
       "  </thead>\n",
       "  <tbody>\n",
       "    <tr>\n",
       "      <th>0</th>\n",
       "      <td>1</td>\n",
       "      <td>1-Villa, Roman and Klein-LLC-4649 Joe Villages...</td>\n",
       "      <td>[0.11127083748579025, 0.013308064080774784, -0...</td>\n",
       "    </tr>\n",
       "    <tr>\n",
       "      <th>1</th>\n",
       "      <td>2</td>\n",
       "      <td>2-Barr and Sons-and Sons-50719 Anthony Field-b...</td>\n",
       "      <td>[0.08539631217718124, -0.020732130855321884, -...</td>\n",
       "    </tr>\n",
       "    <tr>\n",
       "      <th>2</th>\n",
       "      <td>3</td>\n",
       "      <td>3-Obrien Group-Group-95489 Ochoa Place-bury-Au...</td>\n",
       "      <td>[0.09397877752780914, -0.008087624795734882, -...</td>\n",
       "    </tr>\n",
       "    <tr>\n",
       "      <th>3</th>\n",
       "      <td>4</td>\n",
       "      <td>4-Schneider, Perez and Vaughan-LLC-510 Padilla...</td>\n",
       "      <td>[0.044070564210414886, -0.0019353424431756139,...</td>\n",
       "    </tr>\n",
       "    <tr>\n",
       "      <th>4</th>\n",
       "      <td>5</td>\n",
       "      <td>5-Yates, Mann and Newman-Ltd-79789 Bradley Via...</td>\n",
       "      <td>[0.08065102249383926, -0.028701307252049446, -...</td>\n",
       "    </tr>\n",
       "  </tbody>\n",
       "</table>\n",
       "</div>"
      ],
      "text/plain": [
       "   hotel_id                                            content  \\\n",
       "0         1  1-Villa, Roman and Klein-LLC-4649 Joe Villages...   \n",
       "1         2  2-Barr and Sons-and Sons-50719 Anthony Field-b...   \n",
       "2         3  3-Obrien Group-Group-95489 Ochoa Place-bury-Au...   \n",
       "3         4  4-Schneider, Perez and Vaughan-LLC-510 Padilla...   \n",
       "4         5  5-Yates, Mann and Newman-Ltd-79789 Bradley Via...   \n",
       "\n",
       "                                           embedding  \n",
       "0  [0.11127083748579025, 0.013308064080774784, -0...  \n",
       "1  [0.08539631217718124, -0.020732130855321884, -...  \n",
       "2  [0.09397877752780914, -0.008087624795734882, -...  \n",
       "3  [0.044070564210414886, -0.0019353424431756139,...  \n",
       "4  [0.08065102249383926, -0.028701307252049446, -...  "
      ]
     },
     "execution_count": 13,
     "metadata": {},
     "output_type": "execute_result"
    }
   ],
   "source": [
    "# This code snippet may run for longer to generate embeddings for 1000 records.\n",
    "\n",
    "from langchain.embeddings import VertexAIEmbeddings\n",
    "from google.cloud import aiplatform\n",
    "import time\n",
    "import pandas as pd\n",
    "\n",
    "aiplatform.init(project=f\"hackathon-420400\", location=f\"us-central1\")\n",
    "embeddings_service = VertexAIEmbeddings(model_name=\"textembedding-gecko\")\n",
    "\n",
    "\n",
    "# Helper function to retry failed API requests with exponential backoff.\n",
    "def retry_with_backoff(func, *args, retry_delay=5, backoff_factor=2, **kwargs):\n",
    "    max_attempts = 10\n",
    "    retries = 0\n",
    "    for i in range(max_attempts):\n",
    "        try:\n",
    "            return func(*args, **kwargs)\n",
    "        except Exception as e:\n",
    "            print(f\"error: {e}\")\n",
    "            retries += 1\n",
    "            wait = retry_delay * (backoff_factor**retries)\n",
    "            print(f\"Retry after waiting for {wait} seconds...\")\n",
    "            time.sleep(wait)\n",
    "\n",
    "\n",
    "batch_size = 5\n",
    "for i in range(0, len(chunked), batch_size):\n",
    "    request = [x[\"content\"] for x in chunked[i : i + batch_size]]\n",
    "    response = retry_with_backoff(embeddings_service.embed_documents, request)\n",
    "    # Store the retrieved vector embeddings for each chunk back.\n",
    "    for x, e in zip(chunked[i : i + batch_size], response):\n",
    "        x[\"embedding\"] = e\n",
    "\n",
    "# Store the generated embeddings in a pandas dataframe.\n",
    "hotel_embeddings = pd.DataFrame(chunked)\n",
    "hotel_embeddings.head()"
   ]
  },
  {
   "cell_type": "code",
   "execution_count": 14,
   "id": "c08a23c9-de37-4c85-835f-34b3d68fd906",
   "metadata": {
    "tags": []
   },
   "outputs": [],
   "source": [
    "# Dependencies for constructing a conversation Chain\n",
    "from IPython.display import Markdown\n",
    "from langchain.chains import ConversationChain\n",
    "from langchain.memory import ConversationBufferMemory\n",
    "from langchain.prompts import (\n",
    "    ChatPromptTemplate,\n",
    "    HumanMessagePromptTemplate,\n",
    "    MessagesPlaceholder,\n",
    "    SystemMessagePromptTemplate,\n",
    ")\n",
    "from langchain_core.messages import HumanMessage, SystemMessage\n",
    "from langchain_google_vertexai import ChatVertexAI, HarmBlockThreshold, HarmCategory\n",
    "from vertexai.generative_models import Content, GenerativeModel, Part"
   ]
  },
  {
   "cell_type": "code",
   "execution_count": 15,
   "id": "d1400062-9fd6-4fd1-a3bc-d046c158ff50",
   "metadata": {
    "tags": []
   },
   "outputs": [],
   "source": [
    "import re\n",
    "from langchain_google_vertexai import ChatVertexAI, VertexAI\n",
    "from langchain_openai import ChatOpenAI\n",
    "from langchain.memory import ConversationSummaryMemory, ConversationBufferMemory\n",
    "from langchain_community.document_loaders.dataframe import DataFrameLoader\n",
    "from langchain_community.vectorstores.cassandra import Cassandra\n",
    "from langchain_core.prompts import ChatPromptTemplate, PromptTemplate\n",
    "from langchain.chains.combine_documents.stuff import StuffDocumentsChain\n",
    "from langchain.chains.conversational_retrieval.base import ConversationalRetrievalChain\n",
    "from langchain.chains.llm import LLMChain\n",
    "\n",
    "# Using the VertexAi method\n",
    "#llm = ChatVertexAI(model_name=\"chat-bison\", temperature=0.1, max_output_tokens=2048)\n",
    "#llm_text = VertexAI(model_name=\"text-bison\")\n",
    "#llm = ChatVertexAI(model_name=\"gemini-pro\", temperature=0.1, max_output_tokens=500)\n",
    "llm = ChatVertexAI(model_name=\"gemini-1.0-pro\", temperature=0.1, max_output_tokens=300)\n",
    "\n",
    "\n",
    "# Switch to the open ai llm to accurately simulate Penny\n",
    "#llm = ChatOpenAI(model_name=\"gpt-3.5-turbo\")\n",
    "verbose = False\n",
    "\n",
    "CONDENSE_QUESTION_PROMPT = PromptTemplate.from_template(\"\"\"Given the following conversation and a follow up question, rephrase the follow up question to be a standalone question, in its original language.\n",
    "The standalone question has to be made in first-person from the user point of view.\n",
    "\n",
    "\n",
    "Beginning of the example 1.\n",
    "Input:\n",
    "=========\n",
    "Chat history:\n",
    "[{{\"human\": \"Can you recommend a restaurant in Boston?\"}}, {{\"assistant\": \"Sure, the restaurant <EXAMPLE> is a good choice.\"}}]\n",
    "\n",
    "Follow up question: is there a japanese cuisine option?\n",
    "=========\n",
    "Example output:\n",
    "Can you tell me if the restaurant <EXAMPLE> has a japanese cuisine option?\n",
    "=========\n",
    "End of the example 1.\n",
    "\n",
    "Beginning of the example 2.\n",
    "Input:\n",
    "=========\n",
    "Chat history:\n",
    "[]\n",
    "\n",
    "Follow up question: is there a japanese cuisine option?\n",
    "=========\n",
    "Example output:\n",
    "is there a japanese cuisine option?\n",
    "=========\n",
    "End of the example 2.\n",
    "\n",
    "\n",
    "\n",
    "Chat History:\n",
    "{chat_history}\n",
    "\n",
    "Follow up question: {question}\"\"\")\n",
    "\n",
    "\n",
    "\n",
    "template = \"\"\"\n",
    "You're an assistant called Priceline Penny. You're a chatbot in the Priceline website.\n",
    "Priceline website offers solution for booking hotels and restaurant world-wide.\n",
    "\n",
    "Your goal is to help the user to answer questions about the website, hotels, restaurants and reservations.\n",
    "Don't make politicals, religious or any other assumptions and don't even talk about this, just focus on the Priceline offer.\n",
    "Use the same language of the input question.\n",
    "\n",
    "\n",
    "If there's no answer for the user, say \"I don't know, please contact the support\".\n",
    "If the user is asking to policies, only use information provided in this prompt. Do not make up rules.\n",
    "\n",
    "When suggesting an hotel or restaurant, include the name, the area, the address and explain why it's a good choice.\n",
    "Do not make up any data about them, only use details provided in this instruction.\n",
    "\n",
    "When the user asks about hotels, provide a list of available hotels with their names, locations, description in a bulleted format. Omit additional information like \"Other factors to consider\" and avoid asking clarifying questions or making suggestions.\n",
    "\n",
    "\n",
    "The following list are hotels/restaurant in HTML format. Use these items only if you need to search an hotel or restaurant. This list is not exhaustive but only contains relevant content.\n",
    "<context>\n",
    "{context}\n",
    "</context>\n",
    "\n",
    "This is the chat history:\n",
    "<chat-history>\n",
    "{chat_history}\n",
    "</chat-history>\n",
    "\n",
    "This is the question that you need to answer (considering the chat history too):\n",
    "Question:\n",
    "{question}\n",
    "\"\"\"\n",
    "prompt = ChatPromptTemplate.from_template(template)\n",
    "memory = ConversationBufferMemory(memory_key=\"chat_history\", return_messages=True)\n",
    "memory.chat_memory.clear()\n",
    "llm_chain = LLMChain(\n",
    "    llm=llm,\n",
    "    prompt=prompt,\n",
    "    verbose=verbose\n",
    ")\n",
    "chain = StuffDocumentsChain(\n",
    "    llm_chain=llm_chain,\n",
    "    document_variable_name=\"context\"\n",
    "\n",
    ")\n",
    "condense_question_chain = LLMChain(\n",
    "    llm=llm,\n",
    "    prompt=CONDENSE_QUESTION_PROMPT,\n",
    "    verbose=verbose\n",
    ")\n",
    "\n",
    "def format_history(chat_history):\n",
    "  all = []\n",
    "\n",
    "\n",
    "  for dialogue_turn in chat_history:\n",
    "    if dialogue_turn.type == \"human\":\n",
    "      prefix = \"Human\"\n",
    "    else:\n",
    "      prefix = \"Assistant (you)\"\n",
    "    all.append({\"role\": prefix, \"content\": dialogue_turn.content})\n",
    "\n",
    "  import json\n",
    "  return json.dumps(all)\n",
    "\n",
    "\n",
    "\n",
    "conversation = ConversationalRetrievalChain(\n",
    "    combine_docs_chain=chain,\n",
    "    retriever=vstore.as_retriever(search_kwargs={\"k\": 3}),\n",
    "    question_generator=condense_question_chain,\n",
    "    memory=memory,\n",
    "    get_chat_history=format_history\n",
    ")"
   ]
  },
  {
   "cell_type": "code",
   "execution_count": null,
   "id": "1b605e15-d479-4ebd-9fd7-6e5c7841113f",
   "metadata": {
    "tags": []
   },
   "outputs": [
    {
     "name": "stdin",
     "output_type": "stream",
     "text": [
      "\n",
      "You:  hotels in miami near beach\n"
     ]
    },
    {
     "name": "stdout",
     "output_type": "stream",
     "text": [
      "\n",
      "hotel_ragbot:  Yes, there are several hotels in Miami near the beach. Here are a few options:\n",
      "\n",
      "* **The Betsy Hotel:** This luxury hotel is located on Ocean Drive, just steps from the beach. It offers stunning ocean views, a private beach club, and a variety of amenities.\n",
      "* **The Ritz-Carlton, South Beach:** This iconic hotel is located on Collins Avenue, just a short walk from the beach. It offers luxurious accommodations, a world-class spa, and several restaurants.\n",
      "* **The Setai Miami Beach:** This stylish hotel is located on Collins Avenue, just a few blocks from the beach. It offers a rooftop pool, a private beach club, and a variety of dining options.\n",
      "* **The W South Beach:** This trendy hotel is located on Collins Avenue, just steps from the beach. It offers a vibrant atmosphere, a rooftop pool, and a variety of restaurants and bars.\n",
      "* **The Loews Miami Beach Hotel:** This family-friendly hotel is located on Collins Avenue, just a short walk from the beach. It offers a variety of amenities, including a kids' club, a pool, and a spa.\n",
      "\n",
      "These are just a few of the many hotels in Miami that are located near the beach. When choosing a hotel, be sure to consider your budget, your desired level of luxury, and the amenities that are important to you.\n"
     ]
    }
   ],
   "source": [
    "#questions = [\"I need to do an hotel reservation in atlantic city\", \"ok, any restaurant nearby?\", \"ok thanks. Can you tell me how to cancel a reservation ? \"]\n",
    "# for q in questions:\n",
    "#     print(\"\\nYou: \", q)\n",
    "#     answer = conversation.invoke({\"question\": q})\n",
    "\n",
    "\n",
    "\n",
    "while True:\n",
    "  q = input(\"\\nYou: \")\n",
    "  answer = conversation.invoke({\"question\": q})\n",
    "  print(\"\\nhotel_ragbot: \", answer[\"answer\"])\n"
   ]
  },
  {
   "cell_type": "code",
   "execution_count": null,
   "id": "b4d70bff-4b52-4086-83b9-5ec647b9d633",
   "metadata": {},
   "outputs": [],
   "source": [
    "\n"
   ]
  }
 ],
 "metadata": {
  "environment": {
   "kernel": "conda-root-py",
   "name": "workbench-notebooks.m119",
   "type": "gcloud",
   "uri": "us-docker.pkg.dev/deeplearning-platform-release/gcr.io/workbench-notebooks:m119"
  },
  "kernelspec": {
   "display_name": "Python 3 (ipykernel) (Local)",
   "language": "python",
   "name": "conda-root-py"
  },
  "language_info": {
   "codemirror_mode": {
    "name": "ipython",
    "version": 3
   },
   "file_extension": ".py",
   "mimetype": "text/x-python",
   "name": "python",
   "nbconvert_exporter": "python",
   "pygments_lexer": "ipython3",
   "version": "3.10.14"
  }
 },
 "nbformat": 4,
 "nbformat_minor": 5
}
